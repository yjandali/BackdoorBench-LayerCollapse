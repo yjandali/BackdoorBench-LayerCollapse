{
 "cells": [
  {
   "cell_type": "code",
   "execution_count": 10,
   "metadata": {},
   "outputs": [
    {
     "name": "stdout",
     "output_type": "stream",
     "text": [
      "The autoreload extension is already loaded. To reload it, use:\n",
      "  %reload_ext autoreload\n"
     ]
    }
   ],
   "source": [
    "# Auto reload modules\n",
    "%load_ext autoreload\n",
    "%autoreload 2\n",
    "\n",
    "# Set CUDA_VISIBLE_DEVICES\n",
    "\n",
    "import os\n",
    "os.environ[\"CUDA_DEVICE_ORDER\"] = \"PCI_BUS_ID\"\n",
    "os.environ[\"CUDA_VISIBLE_DEVICES\"] = \"0\"\n",
    "\n",
    "# matplotlib setting\n",
    "import matplotlib.pyplot as plt\n",
    "plt.rcParams[\"figure.figsize\"] = (8, 8)\n",
    "plt.rcParams[\"font.size\"] = 14\n",
    "%matplotlib inline\n",
    "\n",
    "\n",
    "import numpy as np\n",
    "from functools import partial\n",
    "\n",
    "import torch\n",
    "from torch import nn as nn\n",
    "\n",
    "from itertools import repeat\n",
    "import collections.abc\n",
    "\n",
    "import torchvision.models as models\n",
    "import copy\n",
    " \n",
    "# from utils.model_trainer_generate import *\n",
    "from utils.aggregate_block.model_trainer_generate import generate_cls_model\n",
    "\n",
    "from collapsible_MLP import *\n",
    "from MG_utils import get_collapsible_model, get_model_collapsible_slopes, collapse_model, get_model_size, get_num_parameters"
   ]
  },
  {
   "cell_type": "markdown",
   "metadata": {},
   "source": [
    "## initialize the regular model"
   ]
  },
  {
   "cell_type": "code",
   "execution_count": 2,
   "metadata": {},
   "outputs": [],
   "source": [
    "regular_model = generate_cls_model(\"vit_b_16\", )"
   ]
  },
  {
   "cell_type": "markdown",
   "metadata": {},
   "source": [
    "## Make collapsable model with the appropriate fraction value"
   ]
  },
  {
   "cell_type": "code",
   "execution_count": 3,
   "metadata": {},
   "outputs": [
    {
     "name": "stdout",
     "output_type": "stream",
     "text": [
      "Collapsing layer 1.encoder.layers.encoder_layer_11.mlp\n",
      "Collapsing layer 1.encoder.layers.encoder_layer_10.mlp\n",
      "Collapsing layer 1.encoder.layers.encoder_layer_9.mlp\n",
      "Collapsing layer 1.encoder.layers.encoder_layer_8.mlp\n"
     ]
    }
   ],
   "source": [
    "collapsible_model = get_collapsible_model(regular_model, fraction=0.3)"
   ]
  },
  {
   "cell_type": "markdown",
   "metadata": {},
   "source": [
    "## load file"
   ]
  },
  {
   "cell_type": "code",
   "execution_count": 4,
   "metadata": {},
   "outputs": [
    {
     "data": {
      "text/plain": [
       "<All keys matched successfully>"
      ]
     },
     "execution_count": 4,
     "metadata": {},
     "output_type": "execute_result"
    }
   ],
   "source": [
    "collapsible_model.load_state_dict(torch.load(\"/home/soheil/trojan/BackdoorBench-LayerCollapse/record/trojannn_0_1_ViT/defense/ft/defense_result.pt\")['model'])"
   ]
  },
  {
   "cell_type": "markdown",
   "metadata": {},
   "source": [
    "## get the slopes and continue with your experiments"
   ]
  },
  {
   "cell_type": "code",
   "execution_count": 5,
   "metadata": {},
   "outputs": [
    {
     "name": "stdout",
     "output_type": "stream",
     "text": [
      "1.encoder.layers.encoder_layer_11.mlp 0.9999831914901733\n",
      "1.encoder.layers.encoder_layer_10.mlp 1.0000500679016113\n",
      "1.encoder.layers.encoder_layer_9.mlp 1.0001270771026611\n"
     ]
    }
   ],
   "source": [
    "get_model_collapsible_slopes(collapsible_model, fraction=0.3)"
   ]
  },
  {
   "cell_type": "markdown",
   "metadata": {},
   "source": [
    "## To get model size:"
   ]
  },
  {
   "cell_type": "code",
   "execution_count": 6,
   "metadata": {},
   "outputs": [
    {
     "name": "stdout",
     "output_type": "stream",
     "text": [
      "model size before collapsing (GB): 2.745803072\n"
     ]
    }
   ],
   "source": [
    "print(f\"model size before collapsing (GB): {get_model_size(regular_model)/1e9}\")"
   ]
  },
  {
   "cell_type": "markdown",
   "metadata": {},
   "source": [
    "## Collapse model"
   ]
  },
  {
   "cell_type": "code",
   "execution_count": 7,
   "metadata": {},
   "outputs": [
    {
     "name": "stdout",
     "output_type": "stream",
     "text": [
      "Collapsing layer 1.encoder.layers.encoder_layer_11.mlp\n",
      "Collapsing layer 1.encoder.layers.encoder_layer_10.mlp\n",
      "Collapsing layer 1.encoder.layers.encoder_layer_9.mlp\n"
     ]
    }
   ],
   "source": [
    "collapse_model(collapsible_model, fraction=0.3)"
   ]
  },
  {
   "cell_type": "code",
   "execution_count": 8,
   "metadata": {},
   "outputs": [
    {
     "name": "stdout",
     "output_type": "stream",
     "text": [
      "model size after collapsing (GB): 2.349146464\n"
     ]
    }
   ],
   "source": [
    "print(f\"model size after collapsing (GB): {get_model_size(collapsible_model)/1e9}\")"
   ]
  },
  {
   "cell_type": "code",
   "execution_count": 13,
   "metadata": {},
   "outputs": [
    {
     "name": "stdout",
     "output_type": "stream",
     "text": [
      "num parameters before collapsing: 85.806346M\n",
      "num parameters after collapsing: 73.410827M\n"
     ]
    }
   ],
   "source": [
    "print(f\"num parameters before collapsing: {get_num_parameters(regular_model)/1e6}M\")\n",
    "print(f\"num parameters after collapsing: {get_num_parameters(collapsible_model)/1e6}M\")"
   ]
  },
  {
   "cell_type": "code",
   "execution_count": 14,
   "metadata": {},
   "outputs": [
    {
     "data": {
      "text/plain": [
       "0.14445923381937276"
      ]
     },
     "execution_count": 14,
     "metadata": {},
     "output_type": "execute_result"
    }
   ],
   "source": [
    "1 - get_num_parameters(collapsible_model)/get_num_parameters(regular_model)"
   ]
  },
  {
   "cell_type": "code",
   "execution_count": null,
   "metadata": {},
   "outputs": [],
   "source": []
  }
 ],
 "metadata": {
  "kernelspec": {
   "display_name": "backdoorbench",
   "language": "python",
   "name": "python3"
  },
  "language_info": {
   "codemirror_mode": {
    "name": "ipython",
    "version": 3
   },
   "file_extension": ".py",
   "mimetype": "text/x-python",
   "name": "python",
   "nbconvert_exporter": "python",
   "pygments_lexer": "ipython3",
   "version": "3.8.20"
  }
 },
 "nbformat": 4,
 "nbformat_minor": 2
}
