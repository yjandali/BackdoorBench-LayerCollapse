{
 "cells": [
  {
   "cell_type": "code",
   "execution_count": 12,
   "metadata": {},
   "outputs": [
    {
     "name": "stdout",
     "output_type": "stream",
     "text": [
      "The autoreload extension is already loaded. To reload it, use:\n",
      "  %reload_ext autoreload\n"
     ]
    }
   ],
   "source": [
    "# Auto reload modules\n",
    "%load_ext autoreload\n",
    "%autoreload 2\n",
    "\n",
    "# Set CUDA_VISIBLE_DEVICES\n",
    "\n",
    "import os\n",
    "os.environ[\"CUDA_DEVICE_ORDER\"] = \"PCI_BUS_ID\"\n",
    "os.environ[\"CUDA_VISIBLE_DEVICES\"] = \"0\"\n",
    "\n",
    "# matplotlib setting\n",
    "import matplotlib.pyplot as plt\n",
    "plt.rcParams[\"figure.figsize\"] = (8, 8)\n",
    "plt.rcParams[\"font.size\"] = 14\n",
    "%matplotlib inline\n",
    "\n",
    "\n",
    "import numpy as np\n",
    "from functools import partial\n",
    "\n",
    "import torch\n",
    "from torch import nn as nn\n",
    "\n",
    "from itertools import repeat\n",
    "import collections.abc\n",
    "\n",
    "import torchvision.models as models\n",
    "import copy\n",
    " \n",
    "# from utils.model_trainer_generate import *\n",
    "from utils.aggregate_block.model_trainer_generate import generate_cls_model\n",
    "\n",
    "from collapsible_MLP import *\n",
    "from MG_utils import get_collapsible_model, get_model_collapsible_slopes, collapse_model, get_model_size"
   ]
  },
  {
   "cell_type": "markdown",
   "metadata": {},
   "source": [
    "## initialize the regular model"
   ]
  },
  {
   "cell_type": "code",
   "execution_count": 2,
   "metadata": {},
   "outputs": [],
   "source": [
    "regular_model = generate_cls_model(\"vit_b_16\", )"
   ]
  },
  {
   "cell_type": "markdown",
   "metadata": {},
   "source": [
    "## Make collapsable model with the appropriate fraction value"
   ]
  },
  {
   "cell_type": "code",
   "execution_count": 3,
   "metadata": {},
   "outputs": [
    {
     "name": "stdout",
     "output_type": "stream",
     "text": [
      "Collapsing layer 1.encoder.layers.encoder_layer_11.mlp\n",
      "Collapsing layer 1.encoder.layers.encoder_layer_10.mlp\n",
      "Collapsing layer 1.encoder.layers.encoder_layer_9.mlp\n",
      "Collapsing layer 1.encoder.layers.encoder_layer_8.mlp\n"
     ]
    }
   ],
   "source": [
    "collapsible_model = get_collapsible_model(regular_model, fraction=0.3)"
   ]
  },
  {
   "cell_type": "markdown",
   "metadata": {},
   "source": [
    "## load file"
   ]
  },
  {
   "cell_type": "code",
   "execution_count": 10,
   "metadata": {},
   "outputs": [
    {
     "data": {
      "text/plain": [
       "<All keys matched successfully>"
      ]
     },
     "execution_count": 10,
     "metadata": {},
     "output_type": "execute_result"
    }
   ],
   "source": [
    "collapsible_model.load_state_dict(torch.load(\"/home/soheil/trojan/BackdoorBench-LayerCollapse/record/trojannn_0_1_ViT/defense/ft/defense_result.pt\")['model'])"
   ]
  },
  {
   "cell_type": "markdown",
   "metadata": {},
   "source": [
    "## get the slopes and continue with your experiments"
   ]
  },
  {
   "cell_type": "code",
   "execution_count": 11,
   "metadata": {},
   "outputs": [
    {
     "name": "stdout",
     "output_type": "stream",
     "text": [
      "1.encoder.layers.encoder_layer_11.mlp 0.9999598264694214\n",
      "1.encoder.layers.encoder_layer_10.mlp 0.9999672174453735\n",
      "1.encoder.layers.encoder_layer_9.mlp 0.9999740719795227\n"
     ]
    }
   ],
   "source": [
    "get_model_collapsible_slopes(collapsible_model, fraction=0.3)"
   ]
  },
  {
   "cell_type": "markdown",
   "metadata": {},
   "source": [
    "## To get model size:"
   ]
  },
  {
   "cell_type": "code",
   "execution_count": 16,
   "metadata": {},
   "outputs": [
    {
     "name": "stdout",
     "output_type": "stream",
     "text": [
      "model size before collapsing (GB): 2.745803072\n"
     ]
    }
   ],
   "source": [
    "print(f\"model size before collapsing (GB): {get_model_size(regular_model)/1e9}\")"
   ]
  },
  {
   "cell_type": "markdown",
   "metadata": {},
   "source": [
    "## Collapse model"
   ]
  },
  {
   "cell_type": "code",
   "execution_count": 17,
   "metadata": {},
   "outputs": [
    {
     "name": "stdout",
     "output_type": "stream",
     "text": [
      "Collapsing layer 1.encoder.layers.encoder_layer_11.mlp\n",
      "Collapsing layer 1.encoder.layers.encoder_layer_10.mlp\n",
      "Collapsing layer 1.encoder.layers.encoder_layer_9.mlp\n"
     ]
    }
   ],
   "source": [
    "collapse_model(collapsible_model, fraction=0.3)"
   ]
  },
  {
   "cell_type": "code",
   "execution_count": 18,
   "metadata": {},
   "outputs": [
    {
     "name": "stdout",
     "output_type": "stream",
     "text": [
      "model size after collapsing (GB): 2.349146464\n"
     ]
    }
   ],
   "source": [
    "print(f\"model size after collapsing (GB): {get_model_size(collapsible_model)/1e9}\")"
   ]
  },
  {
   "cell_type": "code",
   "execution_count": null,
   "metadata": {},
   "outputs": [],
   "source": []
  }
 ],
 "metadata": {
  "kernelspec": {
   "display_name": "backdoorbench",
   "language": "python",
   "name": "python3"
  },
  "language_info": {
   "codemirror_mode": {
    "name": "ipython",
    "version": 3
   },
   "file_extension": ".py",
   "mimetype": "text/x-python",
   "name": "python",
   "nbconvert_exporter": "python",
   "pygments_lexer": "ipython3",
   "version": "3.8.20"
  }
 },
 "nbformat": 4,
 "nbformat_minor": 2
}
